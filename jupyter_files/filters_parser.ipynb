{
 "cells": [
  {
   "cell_type": "markdown",
   "id": "52a2227a-040d-4df4-9b6c-eee142d2baad",
   "metadata": {},
   "source": [
    "Импорты и настройки"
   ]
  },
  {
   "cell_type": "code",
   "execution_count": 1,
   "id": "31a3a4db-56d8-484e-ad8a-e4a540aa34dc",
   "metadata": {},
   "outputs": [],
   "source": [
    "import pandas as pd"
   ]
  },
  {
   "cell_type": "code",
   "execution_count": 2,
   "id": "b0351bdf-6c70-49b3-a28b-66345d0e7c8a",
   "metadata": {},
   "outputs": [],
   "source": [
    "pd.set_option('display.max_columns', 50)\n",
    "pd.set_option('display.max_rows', 150)"
   ]
  },
  {
   "cell_type": "markdown",
   "id": "f035bb54-0de2-4fa9-b00f-d1c68741223b",
   "metadata": {},
   "source": [
    "Импорт таблицы"
   ]
  },
  {
   "cell_type": "code",
   "execution_count": 3,
   "id": "5c5b3ffd-e9f7-49b2-95e8-ce1866078914",
   "metadata": {},
   "outputs": [],
   "source": [
    "df = pd.read_csv('Desktop/DataAnalytics/Parser/old/30.05-12.06.csv', decimal=',')"
   ]
  },
  {
   "cell_type": "markdown",
   "id": "ab5feffa-9d18-4bf6-8628-be4280a8238f",
   "metadata": {},
   "source": [
    "Соотношение старых и новых клиентов"
   ]
  },
  {
   "cell_type": "code",
   "execution_count": 4,
   "id": "cff8e1e8-2740-4c45-abff-701395eeb2b9",
   "metadata": {},
   "outputs": [
    {
     "data": {
      "text/html": [
       "<div>\n",
       "<style scoped>\n",
       "    .dataframe tbody tr th:only-of-type {\n",
       "        vertical-align: middle;\n",
       "    }\n",
       "\n",
       "    .dataframe tbody tr th {\n",
       "        vertical-align: top;\n",
       "    }\n",
       "\n",
       "    .dataframe thead th {\n",
       "        text-align: right;\n",
       "    }\n",
       "</style>\n",
       "<table border=\"1\" class=\"dataframe\">\n",
       "  <thead>\n",
       "    <tr style=\"text-align: right;\">\n",
       "      <th></th>\n",
       "      <th>Count</th>\n",
       "      <th>Percent</th>\n",
       "    </tr>\n",
       "  </thead>\n",
       "  <tbody>\n",
       "    <tr>\n",
       "      <th>All</th>\n",
       "      <td>71</td>\n",
       "      <td>100</td>\n",
       "    </tr>\n",
       "    <tr>\n",
       "      <th>New</th>\n",
       "      <td>40</td>\n",
       "      <td>56</td>\n",
       "    </tr>\n",
       "    <tr>\n",
       "      <th>Old</th>\n",
       "      <td>31</td>\n",
       "      <td>43</td>\n",
       "    </tr>\n",
       "    <tr>\n",
       "      <th>Unknown</th>\n",
       "      <td>0</td>\n",
       "      <td>0</td>\n",
       "    </tr>\n",
       "  </tbody>\n",
       "</table>\n",
       "</div>"
      ],
      "text/plain": [
       "         Count  Percent\n",
       "All         71      100\n",
       "New         40       56\n",
       "Old         31       43\n",
       "Unknown      0        0"
      ]
     },
     "execution_count": 4,
     "metadata": {},
     "output_type": "execute_result"
    }
   ],
   "source": [
    "col_on = df['Old_New']\n",
    "df['Old_New'].value_counts(dropna=False)\n",
    "\n",
    "# Данные по столбцу Old_New\n",
    "old_cl = df['Old_New'].value_counts().Старый\n",
    "new_cl = df['Old_New'].value_counts().Новый\n",
    "count_nan = len(df['Old_New']) - df['Old_New'].count()\n",
    "all_cl = len(df['Old_New'])\n",
    "\n",
    "# Считаем проценты\n",
    "pc_old_cl = old_cl/(all_cl/100)\n",
    "pc_new_cl = new_cl/(all_cl/100)\n",
    "pc_nan_cl = count_nan/(all_cl/100)\n",
    "pc_all_cl = sum([pc_old_cl,pc_new_cl, pc_nan_cl])\n",
    "\n",
    "# Создаем список и таблицу\n",
    "data_old_new = {'Count': [all_cl, new_cl, old_cl, count_nan],\n",
    "                'Percent': [pc_all_cl, pc_new_cl, pc_old_cl, pc_nan_cl]}\n",
    "df_old_new = pd.DataFrame(data_old_new, index=['All', 'New', 'Old', 'Unknown'])\n",
    "\n",
    "# Выравниваем в приятный вид\n",
    "\n",
    "df_old_new['Percent'] = df_old_new['Percent'].astype(int)\n",
    "df_old_new\n"
   ]
  },
  {
   "cell_type": "markdown",
   "id": "89c4574f-74dc-4bf6-a574-a0ecc93b0143",
   "metadata": {},
   "source": [
    "Переименовываем Customer User ID и удаляем дубли CreditID"
   ]
  },
  {
   "cell_type": "code",
   "execution_count": 5,
   "id": "a0da9339-64dc-4435-b243-e5a252f43617",
   "metadata": {},
   "outputs": [],
   "source": [
    "df = df.rename(columns={'ClientID_Uliya': 'Customer User ID'})\n",
    "df = df.drop_duplicates(subset='CreditID')"
   ]
  },
  {
   "cell_type": "markdown",
   "id": "62ba294e-3ff3-439e-bd54-4e309147dc93",
   "metadata": {},
   "source": [
    "Добавляем Media sources из новой таблицы !!!! Скрыто так как не внедрено на поздний этапах."
   ]
  },
  {
   "cell_type": "code",
   "execution_count": 6,
   "id": "35e80d58-ac1e-445b-bc37-aa6c3b57a045",
   "metadata": {},
   "outputs": [],
   "source": [
    "# !!!! Скрыто так как не внедрено на поздний этапах.\n",
    "# df_cladv = pd.read_csv('Desktop/DataAnalytics/Parser/tester_id_adv.csv', decimal=',')\n",
    "# df_cladv['Customer User ID'] = df_cladv['Customer User ID'].astype(float).astype('int64')\n",
    "# df_cladv = df_cladv.drop_duplicates(subset='Customer User ID')\n",
    "\n",
    "\n",
    "\n",
    "# df = df.merge(df_cladv, on='Customer User ID')"
   ]
  },
  {
   "cell_type": "code",
   "execution_count": 10,
   "id": "234d7e13-a708-4de7-bba4-cc3cf142143e",
   "metadata": {},
   "outputs": [
    {
     "data": {
      "text/html": [
       "<div>\n",
       "<style scoped>\n",
       "    .dataframe tbody tr th:only-of-type {\n",
       "        vertical-align: middle;\n",
       "    }\n",
       "\n",
       "    .dataframe tbody tr th {\n",
       "        vertical-align: top;\n",
       "    }\n",
       "\n",
       "    .dataframe thead th {\n",
       "        text-align: right;\n",
       "    }\n",
       "</style>\n",
       "<table border=\"1\" class=\"dataframe\">\n",
       "  <thead>\n",
       "    <tr style=\"text-align: right;\">\n",
       "      <th></th>\n",
       "      <th>Customer User ID</th>\n",
       "      <th>Data_Uliya</th>\n",
       "      <th>Old_New</th>\n",
       "      <th>Vozrast</th>\n",
       "      <th>Sex</th>\n",
       "      <th>SumCredita</th>\n",
       "      <th>VoznagrazhdeniyaSum</th>\n",
       "      <th>Srok</th>\n",
       "      <th>Open_Closed</th>\n",
       "      <th>BadDays</th>\n",
       "      <th>KolvoCreditovDOetogo</th>\n",
       "      <th>DatePredCredita</th>\n",
       "      <th>DownLoadDate</th>\n",
       "      <th>CreditID</th>\n",
       "      <th>BlackPerson</th>\n",
       "    </tr>\n",
       "  </thead>\n",
       "  <tbody>\n",
       "    <tr>\n",
       "      <th>0</th>\n",
       "      <td>1485198</td>\n",
       "      <td>12.06.22_22.50.18</td>\n",
       "      <td>Старый</td>\n",
       "      <td>35</td>\n",
       "      <td>M</td>\n",
       "      <td>44000</td>\n",
       "      <td>10995.6</td>\n",
       "      <td>21</td>\n",
       "      <td>Открыт</td>\n",
       "      <td>0</td>\n",
       "      <td>1</td>\n",
       "      <td>2022-06-05</td>\n",
       "      <td>12.06.22_22.50.18</td>\n",
       "      <td>5925102</td>\n",
       "      <td>NaN</td>\n",
       "    </tr>\n",
       "    <tr>\n",
       "      <th>1</th>\n",
       "      <td>1122577</td>\n",
       "      <td>12.06.22_18.05.19</td>\n",
       "      <td>Старый</td>\n",
       "      <td>25</td>\n",
       "      <td>M</td>\n",
       "      <td>56000</td>\n",
       "      <td>13994.4</td>\n",
       "      <td>21</td>\n",
       "      <td>Открыт</td>\n",
       "      <td>0</td>\n",
       "      <td>17</td>\n",
       "      <td>2022-05-22</td>\n",
       "      <td>12.06.22_18.05.19</td>\n",
       "      <td>5923780</td>\n",
       "      <td>NaN</td>\n",
       "    </tr>\n",
       "    <tr>\n",
       "      <th>2</th>\n",
       "      <td>1335669</td>\n",
       "      <td>12.06.22_16.16.10</td>\n",
       "      <td>Новый</td>\n",
       "      <td>18</td>\n",
       "      <td>M</td>\n",
       "      <td>12000</td>\n",
       "      <td>2998.8</td>\n",
       "      <td>21</td>\n",
       "      <td>Открыт</td>\n",
       "      <td>0</td>\n",
       "      <td>0</td>\n",
       "      <td>нет</td>\n",
       "      <td>12.06.22_16.16.10</td>\n",
       "      <td>5923141</td>\n",
       "      <td>NaN</td>\n",
       "    </tr>\n",
       "  </tbody>\n",
       "</table>\n",
       "</div>"
      ],
      "text/plain": [
       "   Customer User ID         Data_Uliya Old_New  Vozrast Sex  SumCredita  \\\n",
       "0           1485198  12.06.22_22.50.18  Старый       35   M       44000   \n",
       "1           1122577  12.06.22_18.05.19  Старый       25   M       56000   \n",
       "2           1335669  12.06.22_16.16.10   Новый       18   M       12000   \n",
       "\n",
       "   VoznagrazhdeniyaSum  Srok Open_Closed  BadDays  KolvoCreditovDOetogo  \\\n",
       "0              10995.6    21      Открыт        0                     1   \n",
       "1              13994.4    21      Открыт        0                    17   \n",
       "2               2998.8    21      Открыт        0                     0   \n",
       "\n",
       "  DatePredCredita       DownLoadDate  CreditID  BlackPerson  \n",
       "0      2022-06-05  12.06.22_22.50.18   5925102          NaN  \n",
       "1      2022-05-22  12.06.22_18.05.19   5923780          NaN  \n",
       "2             нет  12.06.22_16.16.10   5923141          NaN  "
      ]
     },
     "execution_count": 10,
     "metadata": {},
     "output_type": "execute_result"
    }
   ],
   "source": [
    "df.head(3)"
   ]
  },
  {
   "cell_type": "markdown",
   "id": "440acaa2-a715-4e3e-912c-6774d2d4cef4",
   "metadata": {},
   "source": [
    "Получаем вознаграждение по всем и уже закрытым"
   ]
  },
  {
   "cell_type": "code",
   "execution_count": 18,
   "id": "0bc68a4d-3ed9-4b5d-bebe-f55e2a2a7885",
   "metadata": {},
   "outputs": [
    {
     "data": {
      "text/html": [
       "<div>\n",
       "<style scoped>\n",
       "    .dataframe tbody tr th:only-of-type {\n",
       "        vertical-align: middle;\n",
       "    }\n",
       "\n",
       "    .dataframe tbody tr th {\n",
       "        vertical-align: top;\n",
       "    }\n",
       "\n",
       "    .dataframe thead th {\n",
       "        text-align: right;\n",
       "    }\n",
       "</style>\n",
       "<table border=\"1\" class=\"dataframe\">\n",
       "  <thead>\n",
       "    <tr style=\"text-align: right;\">\n",
       "      <th></th>\n",
       "      <th>Все</th>\n",
       "      <th>Закрыт</th>\n",
       "    </tr>\n",
       "  </thead>\n",
       "  <tbody>\n",
       "    <tr>\n",
       "      <th>Вознаграждение</th>\n",
       "      <td>450939</td>\n",
       "      <td>49612</td>\n",
       "    </tr>\n",
       "    <tr>\n",
       "      <th>Количество</th>\n",
       "      <td>71</td>\n",
       "      <td>12</td>\n",
       "    </tr>\n",
       "  </tbody>\n",
       "</table>\n",
       "</div>"
      ],
      "text/plain": [
       "                   Все  Закрыт\n",
       "Вознаграждение  450939   49612\n",
       "Количество          71      12"
      ]
     },
     "execution_count": 18,
     "metadata": {},
     "output_type": "execute_result"
    }
   ],
   "source": [
    "all_fee = df['VoznagrazhdeniyaSum'].sum()\n",
    "all_count = df.loc[df['VoznagrazhdeniyaSum'] > 0]\n",
    "all_count = all_count['VoznagrazhdeniyaSum'].value_counts().sum()\n",
    "\n",
    "closed_oc = df.loc[df['Open_Closed'] == 'Закрыт']\n",
    "closed_fee = closed_oc['VoznagrazhdeniyaSum'].sum()\n",
    "closed_count = closed_oc.loc[closed_oc['VoznagrazhdeniyaSum'] > 0]\n",
    "closed_count = closed_count['VoznagrazhdeniyaSum'].value_counts().sum()\n",
    "\n",
    "# new_cl = df.loc[df['Old_New'] == 'Новый']\n",
    "    \n",
    "# new_cl_fee = new_cl['VoznagrazhdeniyaSum'].sum()\n",
    "# new_cl_count = new_cl.loc[closed_oc['VoznagrazhdeniyaSum'] > 0]\n",
    "\n",
    "data_fee = { 'Все' : [all_fee , all_count],\n",
    "            'Закрыт' : [closed_fee, closed_count] }\n",
    "df_fee = pd.DataFrame(data_fee , index=['Вознаграждение', 'Количество'])\n",
    "df_fee = df_fee.astype(int)\n",
    "\n",
    "df_fee\n",
    "\n"
   ]
  },
  {
   "cell_type": "code",
   "execution_count": 12,
   "id": "8ad1554e-93f9-486a-9bd2-069e2fa8cb0f",
   "metadata": {},
   "outputs": [
    {
     "data": {
      "text/html": [
       "<div>\n",
       "<style scoped>\n",
       "    .dataframe tbody tr th:only-of-type {\n",
       "        vertical-align: middle;\n",
       "    }\n",
       "\n",
       "    .dataframe tbody tr th {\n",
       "        vertical-align: top;\n",
       "    }\n",
       "\n",
       "    .dataframe thead th {\n",
       "        text-align: right;\n",
       "    }\n",
       "</style>\n",
       "<table border=\"1\" class=\"dataframe\">\n",
       "  <thead>\n",
       "    <tr style=\"text-align: right;\">\n",
       "      <th></th>\n",
       "      <th>Customer User ID</th>\n",
       "      <th>Data_Uliya</th>\n",
       "      <th>Old_New</th>\n",
       "      <th>Vozrast</th>\n",
       "      <th>Sex</th>\n",
       "      <th>SumCredita</th>\n",
       "      <th>VoznagrazhdeniyaSum</th>\n",
       "      <th>Srok</th>\n",
       "      <th>Open_Closed</th>\n",
       "      <th>BadDays</th>\n",
       "      <th>KolvoCreditovDOetogo</th>\n",
       "      <th>DatePredCredita</th>\n",
       "      <th>DownLoadDate</th>\n",
       "      <th>CreditID</th>\n",
       "      <th>BlackPerson</th>\n",
       "    </tr>\n",
       "  </thead>\n",
       "  <tbody>\n",
       "    <tr>\n",
       "      <th>0</th>\n",
       "      <td>1485198</td>\n",
       "      <td>12.06.22_22.50.18</td>\n",
       "      <td>Старый</td>\n",
       "      <td>35</td>\n",
       "      <td>M</td>\n",
       "      <td>44000</td>\n",
       "      <td>10995.6</td>\n",
       "      <td>21</td>\n",
       "      <td>Открыт</td>\n",
       "      <td>0</td>\n",
       "      <td>1</td>\n",
       "      <td>2022-06-05</td>\n",
       "      <td>12.06.22_22.50.18</td>\n",
       "      <td>5925102</td>\n",
       "      <td>NaN</td>\n",
       "    </tr>\n",
       "    <tr>\n",
       "      <th>1</th>\n",
       "      <td>1122577</td>\n",
       "      <td>12.06.22_18.05.19</td>\n",
       "      <td>Старый</td>\n",
       "      <td>25</td>\n",
       "      <td>M</td>\n",
       "      <td>56000</td>\n",
       "      <td>13994.4</td>\n",
       "      <td>21</td>\n",
       "      <td>Открыт</td>\n",
       "      <td>0</td>\n",
       "      <td>17</td>\n",
       "      <td>2022-05-22</td>\n",
       "      <td>12.06.22_18.05.19</td>\n",
       "      <td>5923780</td>\n",
       "      <td>NaN</td>\n",
       "    </tr>\n",
       "    <tr>\n",
       "      <th>2</th>\n",
       "      <td>1335669</td>\n",
       "      <td>12.06.22_16.16.10</td>\n",
       "      <td>Новый</td>\n",
       "      <td>18</td>\n",
       "      <td>M</td>\n",
       "      <td>12000</td>\n",
       "      <td>2998.8</td>\n",
       "      <td>21</td>\n",
       "      <td>Открыт</td>\n",
       "      <td>0</td>\n",
       "      <td>0</td>\n",
       "      <td>нет</td>\n",
       "      <td>12.06.22_16.16.10</td>\n",
       "      <td>5923141</td>\n",
       "      <td>NaN</td>\n",
       "    </tr>\n",
       "  </tbody>\n",
       "</table>\n",
       "</div>"
      ],
      "text/plain": [
       "   Customer User ID         Data_Uliya Old_New  Vozrast Sex  SumCredita  \\\n",
       "0           1485198  12.06.22_22.50.18  Старый       35   M       44000   \n",
       "1           1122577  12.06.22_18.05.19  Старый       25   M       56000   \n",
       "2           1335669  12.06.22_16.16.10   Новый       18   M       12000   \n",
       "\n",
       "   VoznagrazhdeniyaSum  Srok Open_Closed  BadDays  KolvoCreditovDOetogo  \\\n",
       "0              10995.6    21      Открыт        0                     1   \n",
       "1              13994.4    21      Открыт        0                    17   \n",
       "2               2998.8    21      Открыт        0                     0   \n",
       "\n",
       "  DatePredCredita       DownLoadDate  CreditID  BlackPerson  \n",
       "0      2022-06-05  12.06.22_22.50.18   5925102          NaN  \n",
       "1      2022-05-22  12.06.22_18.05.19   5923780          NaN  \n",
       "2             нет  12.06.22_16.16.10   5923141          NaN  "
      ]
     },
     "execution_count": 12,
     "metadata": {},
     "output_type": "execute_result"
    }
   ],
   "source": [
    "df.head(3)"
   ]
  },
  {
   "cell_type": "markdown",
   "id": "a4ba3e47-6c6b-4eb9-a4b8-44093b1cfb5e",
   "metadata": {},
   "source": [
    "Вознаграждения от клиентов всего и новых клиентов"
   ]
  },
  {
   "cell_type": "code",
   "execution_count": null,
   "id": "e792a3cb-e618-4307-bb85-e58f82088b01",
   "metadata": {},
   "outputs": [],
   "source": []
  }
 ],
 "metadata": {
  "kernelspec": {
   "display_name": "Python 3 (ipykernel)",
   "language": "python",
   "name": "python3"
  },
  "language_info": {
   "codemirror_mode": {
    "name": "ipython",
    "version": 3
   },
   "file_extension": ".py",
   "mimetype": "text/x-python",
   "name": "python",
   "nbconvert_exporter": "python",
   "pygments_lexer": "ipython3",
   "version": "3.11.0"
  },
  "toc-autonumbering": true,
  "toc-showcode": false,
  "toc-showmarkdowntxt": true,
  "toc-showtags": false
 },
 "nbformat": 4,
 "nbformat_minor": 5
}
