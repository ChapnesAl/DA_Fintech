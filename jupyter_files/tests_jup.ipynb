{
 "cells": [
  {
   "cell_type": "code",
   "execution_count": 1,
   "id": "b0ed5166-4eaf-4435-97fd-c54be3f7d228",
   "metadata": {},
   "outputs": [],
   "source": [
    "import requests\n",
    "import pandas as pd\n",
    "import numpy as np\n",
    "import csv\n",
    "import io"
   ]
  },
  {
   "cell_type": "code",
   "execution_count": 2,
   "id": "bda2e470-e582-488d-86a4-3765f1c41418",
   "metadata": {},
   "outputs": [],
   "source": [
    "from_date = '2022-11-22'\n",
    "to_date = '2022-11-29'\n",
    "\n",
    "\n",
    "# ID Tez bol\n",
    "app_id = 'com.tezbol.android'  # Tez bol android\n",
    "token = 'Bearer eyJhbGciOiJBMjU2S1ciLCJjdHkiOiJKV1QiLCJlbmMiOiJBMjU2R0NNIiwidHlwIjoiSldUIiwiemlwIjoiREVGIn0.sEVLFBUJYOA0mqDnHXn26LmhHkk9brtcqEFUQ3ff28aHsMYW4IgcRQ.rHov5TPYLC05J7FU.kPdQbwAy_6DjqVQnHgOVPNh1hLwtSdKrSPIfwVBQx22brT5CfR0-QMnh_Gmz8zFvyKOYXY2JaIfKetASeZ2FM-6VxT8b7MmFESD-McDxnSa6x_HpAbAXT2D2oqK_x7uh7WWF4eVYQTgo6M5UL8qZyg_nBH1FC3BKUxo0NEnUWtdkxlk71GbcGtP7a0Ik1NNgh7f-uFfuDbh9Kx-RhV7m5Io14MuKoh9KW1SAo__N0g2yOk5_1KDgVhGSTPtyiI34FA1O-GB569ufliR4Yo2-i9mLoCWaiJHLltxE55rp39rqLgGQiSxBpAiG-c3gHB5n8cU9pqN4cvRpMMjOTxaAE6FZYM7WlTAx80Pmqy6yVXe3dBBH9UZjpFhc5aR84y-BYU0UnrODff2KT-EjTXap2nWI0ALZCC0LvX57FZk8ZQrlV1UG6tmx2_mXgQNkAuCYNzsgRajRUf3TjLNMEwVTpn-yCYbVo9YtKumwXu9bI-iHIKqPmvr8y466bA5_zYP7MQLG75jnKWbSr3VAf87VNA.VaZ4bKqcqdREmfgWC7bBDg'   "
   ]
  },
  {
   "cell_type": "code",
   "execution_count": 3,
   "id": "19d9f827-1c07-4229-a5ac-1c7f6023674c",
   "metadata": {},
   "outputs": [],
   "source": [
    "url = f\"https://hq1.appsflyer.com/api/raw-data/export/app/com.tezbol.android/in_app_events_report/v5?from={from_date}&to={to_date}&event_name=&reattr=false&additional_fields=blocked_reason_rule,store_reinstall,impressions,conversion_type,gp_click_time,match_type,mediation_network,oaid,deeplink_url,gp_install_begin,campaign_type,custom_data,device_download_time,device_model,monetization_network,segment,store_product_page,device_category\"\n",
    "\n",
    "headers = {\n",
    "    \"accept\": \"text/csv\",\n",
    "    \"authorization\": token}\n",
    "\n",
    "urlData = requests.get(url, headers=headers).content\n",
    "df = pd.read_csv(io.StringIO(urlData.decode('utf-8')))"
   ]
  },
  {
   "cell_type": "code",
   "execution_count": 44,
   "id": "be9dedc0-0db4-47f0-a3f6-de4cdf183aa9",
   "metadata": {},
   "outputs": [],
   "source": [
    "# get unigue values from column\n",
    "sources = list(df['Media Source'].unique())\n"
   ]
  },
  {
   "cell_type": "code",
   "execution_count": 45,
   "id": "8de89695-2890-4465-8684-1c6ae7d7d608",
   "metadata": {},
   "outputs": [],
   "source": [
    "\n",
    "if 'restricted' in sources:\n",
    "    ind = sources.index('restricted')\n",
    "    sources[ind] = 'Facebook_Ads'\n",
    "else:\n",
    "    pass\n",
    "    \n",
    "sources.append('Organic')"
   ]
  },
  {
   "cell_type": "code",
   "execution_count": 46,
   "id": "2ed31207-daae-4431-be5e-84ac32b340ac",
   "metadata": {},
   "outputs": [
    {
     "data": {
      "text/plain": [
       "['googleadwords_int', 'Facebook_Ads', 'Organic']"
      ]
     },
     "execution_count": 46,
     "metadata": {},
     "output_type": "execute_result"
    }
   ],
   "source": [
    "sources"
   ]
  },
  {
   "cell_type": "code",
   "execution_count": null,
   "id": "70ceb0a5-d414-47af-92f5-016f6a10527a",
   "metadata": {},
   "outputs": [],
   "source": []
  }
 ],
 "metadata": {
  "kernelspec": {
   "display_name": "Python 3 (ipykernel)",
   "language": "python",
   "name": "python3"
  },
  "language_info": {
   "codemirror_mode": {
    "name": "ipython",
    "version": 3
   },
   "file_extension": ".py",
   "mimetype": "text/x-python",
   "name": "python",
   "nbconvert_exporter": "python",
   "pygments_lexer": "ipython3",
   "version": "3.11.0"
  }
 },
 "nbformat": 4,
 "nbformat_minor": 5
}
