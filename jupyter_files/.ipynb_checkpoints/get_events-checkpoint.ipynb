{
 "cells": [
  {
   "cell_type": "markdown",
   "id": "bcff2eb9-5b7f-4a6a-8e75-7e8396d8365d",
   "metadata": {},
   "source": [
    "Импорты и настройки"
   ]
  },
  {
   "cell_type": "code",
   "execution_count": 1,
   "id": "87565eca-5cfc-4d94-b359-c8fa6c54cb56",
   "metadata": {},
   "outputs": [],
   "source": [
    "import requests\n",
    "import pandas as pd\n",
    "import numpy as np\n",
    "import csv\n",
    "import io"
   ]
  },
  {
   "cell_type": "code",
   "execution_count": 2,
   "id": "48419b6b-920c-49f4-a074-86862a56d9ee",
   "metadata": {},
   "outputs": [],
   "source": [
    "pd.set_option('display.max_columns', 300)\n",
    "pd.set_option('display.max_rows', 100)"
   ]
  },
  {
   "cell_type": "markdown",
   "id": "ad8ece24-33d9-4697-8ae5-cf03af0e0e2a",
   "metadata": {},
   "source": [
    "Данные для для запроса"
   ]
  },
  {
   "cell_type": "code",
   "execution_count": 3,
   "id": "f2929a8c-5935-4718-99ec-6e849e17d53f",
   "metadata": {},
   "outputs": [],
   "source": [
    "from_date = '2022-11-22'\n",
    "to_date = '2022-12-05'\n",
    "\n",
    "\n",
    "# ID Tez bol\n",
    "app_id = 'com.tezbol.android'  # Tez bol android\n",
    "token = 'Bearer eyJhbGciOiJBMjU2S1ciLCJjdHkiOiJKV1QiLCJlbmMiOiJBMjU2R0NNIiwidHlwIjoiSldUIiwiemlwIjoiREVGIn0.sEVLFBUJYOA0mqDnHXn26LmhHkk9brtcqEFUQ3ff28aHsMYW4IgcRQ.rHov5TPYLC05J7FU.kPdQbwAy_6DjqVQnHgOVPNh1hLwtSdKrSPIfwVBQx22brT5CfR0-QMnh_Gmz8zFvyKOYXY2JaIfKetASeZ2FM-6VxT8b7MmFESD-McDxnSa6x_HpAbAXT2D2oqK_x7uh7WWF4eVYQTgo6M5UL8qZyg_nBH1FC3BKUxo0NEnUWtdkxlk71GbcGtP7a0Ik1NNgh7f-uFfuDbh9Kx-RhV7m5Io14MuKoh9KW1SAo__N0g2yOk5_1KDgVhGSTPtyiI34FA1O-GB569ufliR4Yo2-i9mLoCWaiJHLltxE55rp39rqLgGQiSxBpAiG-c3gHB5n8cU9pqN4cvRpMMjOTxaAE6FZYM7WlTAx80Pmqy6yVXe3dBBH9UZjpFhc5aR84y-BYU0UnrODff2KT-EjTXap2nWI0ALZCC0LvX57FZk8ZQrlV1UG6tmx2_mXgQNkAuCYNzsgRajRUf3TjLNMEwVTpn-yCYbVo9YtKumwXu9bI-iHIKqPmvr8y466bA5_zYP7MQLG75jnKWbSr3VAf87VNA.VaZ4bKqcqdREmfgWC7bBDg'   \n",
    "\n",
    "\n",
    "# #ID Kreditomat.KZ\n",
    "# # app_id = 'id1392973739'   # kreditomat ios\n",
    "# app_id = 'com.payday.dozp.ref'   # kreditomat android\n",
    "# token = 'Bearer eyJhbGciOiJBMjU2S1ciLCJjdHkiOiJKV1QiLCJlbmMiOiJBMjU2R0NNIiwidHlwIjoiSldUIiwiemlwIjoiREVGIn0.sEVLFBUJYOA0mqDnHXn26LmhHkk9brtcqEFUQ3ff28aHsMYW4IgcRQ.rHov5TPYLC05J7FU.kPdQbwAy_6DjqVQnHgOVPNh1hLwtSdKrSPIfwVBQx22brT5CfR0-QMnh_Gmz8zFvyKOYXY2JaIfKetASeZ2FM-6VxT8b7MmFESD-McDxnSa6x_HpAbAXT2D2oqK_x7uh7WWF4eVYQTgo6M5UL8qZyg_nBH1FC3BKUxo0NEnUWtdkxlk71GbcGtP7a0Ik1NNgh7f-uFfuDbh9Kx-RhV7m5Io14MuKoh9KW1SAo__N0g2yOk5_1KDgVhGSTPtyiI34FA1O-GB569ufliR4Yo2-i9mLoCWaiJHLltxE55rp39rqLgGQiSxBpAiG-c3gHB5n8cU9pqN4cvRpMMjOTxaAE6FZYM7WlTAx80Pmqy6yVXe3dBBH9UZjpFhc5aR84y-BYU0UnrODff2KT-EjTXap2nWI0ALZCC0LvX57FZk8ZQrlV1UG6tmx2_mXgQNkAuCYNzsgRajRUf3TjLNMEwVTpn-yCYbVo9YtKumwXu9bI-iHIKqPmvr8y466bA5_zYP7MQLG75jnKWbSr3VAf87VNA.VaZ4bKqcqdREmfgWC7bBDg'   \n",
    "\n",
    "\n",
    "# # #ID Creditomat.MD\n",
    "# app_id = 'com.kreditomatmd.dozp.ref'   # MD kreditomat android\n",
    "# token = 'Bearer eyJhbGciOiJBMjU2S1ciLCJjdHkiOiJKV1QiLCJlbmMiOiJBMjU2R0NNIiwidHlwIjoiSldUIiwiemlwIjoiREVGIn0.Hioi6Lb0C7wwtN6_9zoigB37ukPBlJdyF5R7G3DIncShFJtPNs9h9g.eqnAjdwd28XULE_-.IZsJsJuR5e-yVrcmWoDVe-DVURRjFEsQShgWwJ9unBkxAjz72n2IBrWecP7_pA9k6mV7br73JxgvWmPB6RNwTPcPOz0FbBQQIwX-xu2iD3udokHVk3XT5aP_aMHSWkADoeyJZyImnPf10-wCi8-nJ3vivzebPl6VCi5QQ-HorU5O8PLUq9LddE-0L7gfT6S0diMY7yW1HpAGHKethpI7abCwV9_yX88tptFHlaWV8zqsHysoqZmA-6tiyloCIoGOibFgk6Ix5tJYQaZkUFbvQf5IVdwoJVe-VeGEESnBedQA3UBbpAhHB1Hp1OZeZOBUpAOQHQRZkqNvy8y9QMMkr-5-_CS567ZAtUfh3ZbMcHau63e6fsQbbWQhDWeBZ6GDm5OuAIgyyJipAyEf7_6ozL0DS00wUYrhKH1vCF4kMid7VljHcVk2s_-2u79I2ttDsQtK3DGnbSYgsGkktkQDSKGCOlRLNNkpCnHp5bnhmLEbs-BpxwIlHW7PoNi3YQriaBLJrWt1Sn-T3j8N6lIwgFDG0A.sma12W1tpVnUAojhCVLMUA'"
   ]
  },
  {
   "cell_type": "markdown",
   "id": "cba30d0d-68eb-4655-a2f4-4064d218af20",
   "metadata": {},
   "source": [
    "Запрос в Appsflyer"
   ]
  },
  {
   "cell_type": "code",
   "execution_count": 4,
   "id": "99e4072f-bc12-40d6-ab91-695e4ce4ffab",
   "metadata": {},
   "outputs": [
    {
     "name": "stderr",
     "output_type": "stream",
     "text": [
      "C:\\Users\\PC\\AppData\\Local\\Temp\\ipykernel_16028\\2853699065.py:8: DtypeWarning: Columns (79,80) have mixed types. Specify dtype option on import or set low_memory=False.\n",
      "  df = pd.read_csv(io.StringIO(urlData.decode('utf-8')))\n"
     ]
    }
   ],
   "source": [
    "url = f\"https://hq1.appsflyer.com/api/raw-data/export/app/com.tezbol.android/in_app_events_report/v5?from={from_date}&to={to_date}&event_name=&reattr=false&additional_fields=blocked_reason_rule,store_reinstall,impressions,conversion_type,gp_click_time,match_type,mediation_network,oaid,deeplink_url,gp_install_begin,campaign_type,custom_data,device_download_time,device_model,monetization_network,segment,store_product_page,device_category\"\n",
    "\n",
    "headers = {\n",
    "    \"accept\": \"text/csv\",\n",
    "    \"authorization\": token}\n",
    "\n",
    "urlData = requests.get(url, headers=headers).content\n",
    "df = pd.read_csv(io.StringIO(urlData.decode('utf-8')))"
   ]
  },
  {
   "cell_type": "markdown",
   "id": "fb7714d6-68d3-404f-9f34-e566b1ac2f10",
   "metadata": {},
   "source": [
    "!!!!! убрал restricted !!!"
   ]
  },
  {
   "cell_type": "code",
   "execution_count": 6,
   "id": "c3720ef4-064f-4588-8c8c-eac632b369ee",
   "metadata": {},
   "outputs": [],
   "source": [
    "df = df.loc[df['Media Source'] != 'restricted']"
   ]
  },
  {
   "cell_type": "markdown",
   "id": "6acf0f6c-2a67-48fe-8ea3-a2b32d521f07",
   "metadata": {},
   "source": [
    "Сохраняем в таблицы уникальные Customer_ID по loan_rejected"
   ]
  },
  {
   "cell_type": "code",
   "execution_count": 7,
   "id": "6f55289b-920b-4df1-9d1d-511231d2a7e9",
   "metadata": {},
   "outputs": [],
   "source": [
    "lr_event = df.loc[df['Event Name'] == 'loan_rejected']\n",
    "\n",
    "sorted = lr_event.sort_values('Customer User ID', ascending = True)\n",
    "lr_event = sorted.groupby('Customer User ID').first().reset_index()\n",
    "\n",
    "lr_event['Customer User ID'].to_excel(r'C:/Users/PC/Desktop/DataAnalytics/Events/loan_rej_customerID.xlsx', index=False)"
   ]
  },
  {
   "cell_type": "markdown",
   "id": "58170768-718d-4c28-be2d-afef45b540ae",
   "metadata": {},
   "source": [
    "Сохраняем в таблицы уникальные Customer_ID по loan_accepted"
   ]
  },
  {
   "cell_type": "code",
   "execution_count": null,
   "id": "bb570b26-ed89-4ba5-a9e4-8f31f4957d19",
   "metadata": {},
   "outputs": [],
   "source": [
    "accep_event = df.loc[df['Event Name'] == 'loan_accepted']\n",
    "\n",
    "sorted = accep_event.sort_values('Customer User ID', ascending = True)\n",
    "accep_event = sorted.groupby('Customer User ID').first().reset_index()\n",
    "\n",
    "accep_event['Customer User ID'].to_excel(r'C:/Users/PC/Desktop/DataAnalytics/Events/loan_accep_customerID.xlsx', index=False)"
   ]
  },
  {
   "cell_type": "markdown",
   "id": "d3423e8e-dfb3-45c4-9636-f9133c07e8b7",
   "metadata": {},
   "source": [
    "Получаем табилицу с Custumer ID и таблицу с Customer ID + Media Source"
   ]
  },
  {
   "cell_type": "code",
   "execution_count": null,
   "id": "02ca493b-fe5f-4bbf-83d8-143de301336a",
   "metadata": {},
   "outputs": [],
   "source": [
    "event_with_id = df.loc[df['Event Name'] == 'submit_loan_application']\n",
    "                       # & (df['Event Name'] != 'af_login')\n",
    "                       # & (df['Event Name'] != 'af_complete_registration')]\n",
    "\n",
    "event_with_id[['Customer User ID', 'Media Source']].to_csv(r'Desktop/DataAnalytics/Parser/cl_id_adv.csv', index=False, compression = None)\n",
    "\n",
    "event_with_id = event_with_id.drop_duplicates(subset='Customer User ID')\n",
    "event_with_id[['Customer User ID', 'Event Time']].to_excel(r'Desktop/DataAnalytics/Parser/cl_id.xlsx', index=False)\n"
   ]
  },
  {
   "cell_type": "code",
   "execution_count": null,
   "id": "935ba4a6-1eb5-41c7-aebd-102aee469097",
   "metadata": {},
   "outputs": [],
   "source": [
    "event_with_id[['Customer User ID', 'Event Time']]"
   ]
  },
  {
   "cell_type": "code",
   "execution_count": null,
   "id": "73e33762-1365-4f87-a060-428edb6970af",
   "metadata": {},
   "outputs": [],
   "source": []
  }
 ],
 "metadata": {
  "kernelspec": {
   "display_name": "Python 3 (ipykernel)",
   "language": "python",
   "name": "python3"
  },
  "language_info": {
   "codemirror_mode": {
    "name": "ipython",
    "version": 3
   },
   "file_extension": ".py",
   "mimetype": "text/x-python",
   "name": "python",
   "nbconvert_exporter": "python",
   "pygments_lexer": "ipython3",
   "version": "3.11.0"
  },
  "toc-showmarkdowntxt": true
 },
 "nbformat": 4,
 "nbformat_minor": 5
}
