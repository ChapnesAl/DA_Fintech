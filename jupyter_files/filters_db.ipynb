{
 "cells": [
  {
   "cell_type": "code",
   "execution_count": 1,
   "id": "0f4dfea8-d1d6-4a32-8ff4-c1a7dffc7e08",
   "metadata": {},
   "outputs": [],
   "source": [
    "import pandas as pd"
   ]
  },
  {
   "cell_type": "code",
   "execution_count": 2,
   "id": "156cfddc-4ae7-4884-94ad-35306b188e86",
   "metadata": {},
   "outputs": [],
   "source": [
    "pd.set_option('display.max_columns', 50)"
   ]
  },
  {
   "cell_type": "code",
   "execution_count": 3,
   "id": "ab994773-9eb8-449a-85a4-bed21e7fca06",
   "metadata": {},
   "outputs": [],
   "source": [
    "df = pd.read_csv('Kr_af_oct.csv', low_memory=False)"
   ]
  },
  {
   "cell_type": "code",
   "execution_count": 33,
   "id": "61dfcb78-6077-4d9b-a1f0-fa206d7ee27a",
   "metadata": {},
   "outputs": [],
   "source": [
    "#фильтрация по событиям\n",
    "installs_f = df.loc[df['Event Name'].isin(['install_kreditomat'])]\n",
    "submit_loan_f = df.loc[df['Event Name'].isin(['submit_loan_application'])]\n",
    "loan_rejected_f = df.loc[df['Event Name'].isin(['loan_rejected'])]\n",
    "loan_accepted_f = df.loc[df['Event Name'].isin(['loan_accepted'])]\n",
    "payment_completed_f = df.loc[df['Event Name'].isin(['payment_completed'])]\n",
    "login_f = df.loc[df['Event Name'].isin(['af_login'])]"
   ]
  },
  {
   "cell_type": "code",
   "execution_count": 35,
   "id": "bb988314-19c8-4fe4-a774-5898f36470ab",
   "metadata": {},
   "outputs": [],
   "source": [
    "installs = int(installs_f['Event Name'].value_counts())\n",
    "submit_loan = int(submit_loan_f['Event Name'].value_counts())\n",
    "loan_rejected = int(loan_rejected_f['Event Name'].value_counts())\n",
    "loan_accepted = int(loan_accepted_f['Event Name'].value_counts())\n",
    "payment_completed = int(payment_completed_f['Event Name'].value_counts())\n",
    "login = int(login_f['Event Name'].value_counts())\n"
   ]
  },
  {
   "cell_type": "code",
   "execution_count": 40,
   "id": "6a615b42-10b3-479b-b604-04be615dcd0d",
   "metadata": {},
   "outputs": [
    {
     "data": {
      "text/html": [
       "<div>\n",
       "<style scoped>\n",
       "    .dataframe tbody tr th:only-of-type {\n",
       "        vertical-align: middle;\n",
       "    }\n",
       "\n",
       "    .dataframe tbody tr th {\n",
       "        vertical-align: top;\n",
       "    }\n",
       "\n",
       "    .dataframe thead th {\n",
       "        text-align: right;\n",
       "    }\n",
       "</style>\n",
       "<table border=\"1\" class=\"dataframe\">\n",
       "  <thead>\n",
       "    <tr style=\"text-align: right;\">\n",
       "      <th></th>\n",
       "      <th>installs</th>\n",
       "      <th>submit_loan</th>\n",
       "      <th>loan_rejected</th>\n",
       "      <th>loan_accepted</th>\n",
       "      <th>payment_completed</th>\n",
       "      <th>login</th>\n",
       "    </tr>\n",
       "  </thead>\n",
       "  <tbody>\n",
       "    <tr>\n",
       "      <th>0</th>\n",
       "      <td>47474</td>\n",
       "      <td>24218</td>\n",
       "      <td>8775</td>\n",
       "      <td>9245</td>\n",
       "      <td>11801</td>\n",
       "      <td>16272</td>\n",
       "    </tr>\n",
       "  </tbody>\n",
       "</table>\n",
       "</div>"
      ],
      "text/plain": [
       "   installs  submit_loan  loan_rejected  loan_accepted  payment_completed  \\\n",
       "0     47474        24218           8775           9245              11801   \n",
       "\n",
       "   login  \n",
       "0  16272  "
      ]
     },
     "execution_count": 40,
     "metadata": {},
     "output_type": "execute_result"
    }
   ],
   "source": [
    "data_events = { 'installs' : installs,\n",
    "                'submit_loan' : submit_loan,\n",
    "                'loan_rejected' : loan_rejected,\n",
    "                'loan_accepted' : loan_accepted,\n",
    "                'payment_completed' : payment_completed,\n",
    "                'login' : login}\n",
    "\n",
    "events_df = pd.DataFrame([data_events])\n",
    "events_df"
   ]
  },
  {
   "cell_type": "code",
   "execution_count": null,
   "id": "d48882f0-dbd5-492c-80e5-937545587f1d",
   "metadata": {},
   "outputs": [],
   "source": []
  }
 ],
 "metadata": {
  "kernelspec": {
   "display_name": "Python 3 (ipykernel)",
   "language": "python",
   "name": "python3"
  },
  "language_info": {
   "codemirror_mode": {
    "name": "ipython",
    "version": 3
   },
   "file_extension": ".py",
   "mimetype": "text/x-python",
   "name": "python",
   "nbconvert_exporter": "python",
   "pygments_lexer": "ipython3",
   "version": "3.11.0"
  }
 },
 "nbformat": 4,
 "nbformat_minor": 5
}
